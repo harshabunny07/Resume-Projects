{
  "cells": [
    {
      "cell_type": "code",
      "execution_count": null,
      "metadata": {
        "id": "YKE8FcaDF6NZ"
      },
      "outputs": [],
      "source": [
        "import torch\n",
        "import torch.nn.functional as F\n",
        "from torch.utils.data import Dataset, DataLoader\n",
        "from transformers import GPT2LMHeadModel, GPT2Tokenizer, get_scheduler\n",
        "from datasets import load_dataset\n",
        "import gradio as gr\n",
        "from tqdm import tqdm\n",
        "import os"
      ]
    },
    {
      "cell_type": "code",
      "execution_count": null,
      "metadata": {
        "id": "VWEu02kGF8JJ"
      },
      "outputs": [],
      "source": [
        "# 1. Dataset of the class for the tokenized WikiText\n",
        "class WikiTextDataset(Dataset):\n",
        "    def __init__(self, dataset_split, tokenizer, block_size=64):\n",
        "        self.examples = []\n",
        "        for item in dataset_split['text']:\n",
        "            if item.strip():\n",
        "                tokens = tokenizer(item, truncation=True, max_length=block_size, padding='max_length', return_tensors='pt')\n",
        "                self.examples.append({\n",
        "                    'input_ids': tokens['input_ids'].squeeze(),\n",
        "                    'attention_mask': tokens['attention_mask'].squeeze()\n",
        "                })\n",
        "\n",
        "    def __len__(self):\n",
        "        return len(self.examples)\n",
        "\n",
        "    def __getitem__(self, idx):\n",
        "        item = self.examples[idx]\n",
        "        return {\n",
        "            'input_ids': item['input_ids'],\n",
        "            'attention_mask': item['attention_mask'],\n",
        "            'labels': item['input_ids']\n",
        "        }"
      ]
    },
    {
      "cell_type": "code",
      "execution_count": null,
      "metadata": {
        "id": "kKLv69TDF8Lq"
      },
      "outputs": [],
      "source": [
        "# 2. Loading and preparation of the dataset\n",
        "def load_and_prepare_data():\n",
        "    dataset = load_dataset('wikitext', 'wikitext-2-raw-v1')\n",
        "    tokenizer = GPT2Tokenizer.from_pretrained('gpt2')\n",
        "    tokenizer.pad_token = tokenizer.eos_token\n",
        "    train_dataset = WikiTextDataset(dataset['train'], tokenizer)\n",
        "    eval_dataset = WikiTextDataset(dataset['validation'], tokenizer)\n",
        "    return train_dataset, eval_dataset, tokenizer"
      ]
    },
    {
      "cell_type": "code",
      "execution_count": null,
      "metadata": {
        "id": "97MYkw9oF8OF"
      },
      "outputs": [],
      "source": [
        "# 3. Function to tune the GPT-2 model on the given dataset\n",
        "\n",
        "def train_model(train_dataset, eval_dataset, tokenizer, batch_size=8, num_epochs=1, lr=5e-5):\n",
        "    device = torch.device(\"cuda\" if torch.cuda.is_available() else \"cpu\")\n",
        "    model = GPT2LMHeadModel.from_pretrained('gpt2').to(device)\n",
        "    model.resize_token_embeddings(len(tokenizer))\n",
        "\n",
        "    train_loader = DataLoader(train_dataset, batch_size=batch_size, shuffle=True)\n",
        "    optimizer = torch.optim.AdamW(model.parameters(), lr=lr)\n",
        "    scheduler = get_scheduler('linear', optimizer=optimizer, num_warmup_steps=0,\n",
        "                              num_training_steps=num_epochs * len(train_loader))\n",
        "\n",
        "    model.train()\n",
        "    for epoch in range(num_epochs):\n",
        "        total_loss = 0\n",
        "        for step, batch in enumerate(tqdm(train_loader)):\n",
        "            input_ids = batch['input_ids'].to(device)\n",
        "            attention_mask = batch['attention_mask'].to(device)\n",
        "            labels = batch['labels'].to(device)\n",
        "\n",
        "            outputs = model(input_ids, attention_mask=attention_mask, labels=labels)\n",
        "            loss = outputs.loss\n",
        "            optimizer.zero_grad()\n",
        "            loss.backward()\n",
        "            optimizer.step()\n",
        "            scheduler.step()\n",
        "\n",
        "            total_loss += loss.item()\n",
        "            if (step + 1) % 100 == 0:\n",
        "                print(f\"Step {step+1}, Loss: {loss.item():.4f}\")\n",
        "\n",
        "        avg_loss = total_loss / len(train_loader)\n",
        "        print(f\"Epoch {epoch+1} completed. Average Loss: {avg_loss:.4f}\")\n",
        "\n",
        "    return model"
      ]
    },
    {
      "cell_type": "code",
      "execution_count": null,
      "metadata": {
        "id": "kMlXffulF8QW"
      },
      "outputs": [],
      "source": [
        "# 4. Function to predict the next words\n",
        "\n",
        "def predict_next_word(model, tokenizer, text, top_k=5):\n",
        "    device = torch.device(\"cuda\" if torch.cuda.is_available() else \"cpu\")\n",
        "    model.to(device)\n",
        "    model.eval()\n",
        "    inputs = tokenizer(text, return_tensors='pt').to(device)\n",
        "    with torch.no_grad():\n",
        "        outputs = model(**inputs)\n",
        "        logits = outputs.logits[:, -1, :]\n",
        "        probabilities = torch.nn.functional.softmax(logits, dim=-1)\n",
        "        top_k_probs, top_k_indices = torch.topk(probabilities, top_k, dim=-1)\n",
        "        top_k_tokens = [tokenizer.decode(idx.item()).strip() for idx in top_k_indices[0]]\n",
        "        return [(token, prob.item()) for token, prob in zip(top_k_tokens, top_k_probs[0])]"
      ]
    },
    {
      "cell_type": "code",
      "execution_count": null,
      "metadata": {
        "id": "X7jgZCVgF8Sx"
      },
      "outputs": [],
      "source": [
        "# Function to launch Gradio interface\n",
        "def launch_gradio(model, tokenizer):\n",
        "    def gradio_predict(text):\n",
        "        predictions = predict_next_word(model, tokenizer, text)\n",
        "        return \"\\n\".join([f\"{word}: {prob:.4f}\" for word, prob in predictions])\n",
        "    interface = gr.Interface(fn=gradio_predict, inputs=\"text\", outputs=\"text\", title=\"GPT-2 Next Word Prediction\")\n",
        "    interface.launch()"
      ]
    },
    {
      "cell_type": "code",
      "execution_count": null,
      "metadata": {
        "id": "NjeVuIHyF8VI"
      },
      "outputs": [],
      "source": [
        "# 6. Main execution of the model\n",
        "if __name__ == '__main__':\n",
        "    print(\"Loading data and tokenizer...\")\n",
        "    train_dataset, eval_dataset, tokenizer = load_and_prepare_data()\n",
        "\n",
        "    print(\"Training model...\")\n",
        "    model = train_model(train_dataset, eval_dataset, tokenizer, batch_size=8, num_epochs=5)\n",
        "\n",
        "    model.save_pretrained(\"./fine_tuned_gpt2\")\n",
        "    tokenizer.save_pretrained(\"./fine_tuned_gpt2\")\n",
        "\n",
        "    print(\"Launching Gradio interface...\")\n",
        "    launch_gradio(model, tokenizer)\n"
      ]
    },
    {
      "cell_type": "code",
      "execution_count": null,
      "metadata": {
        "id": "_D8L4oy2F8fx"
      },
      "outputs": [],
      "source": [
        "pip install gradio transformers torch datasets"
      ]
    },
    {
      "cell_type": "code",
      "execution_count": null,
      "metadata": {
        "id": "xmA919R2F8hZ"
      },
      "outputs": [],
      "source": [
        "pip install -U datasets huggingface_hub fsspec\n"
      ]
    },
    {
      "cell_type": "code",
      "execution_count": null,
      "metadata": {
        "id": "wajF185WF8jc"
      },
      "outputs": [],
      "source": []
    },
    {
      "cell_type": "code",
      "execution_count": null,
      "metadata": {
        "id": "rQG6c-sZF8ly"
      },
      "outputs": [],
      "source": []
    },
    {
      "cell_type": "code",
      "execution_count": null,
      "metadata": {
        "id": "xiP6NpabF8pV"
      },
      "outputs": [],
      "source": []
    },
    {
      "cell_type": "code",
      "execution_count": null,
      "metadata": {
        "id": "C9XROWs_BZOt"
      },
      "outputs": [],
      "source": []
    },
    {
      "cell_type": "code",
      "execution_count": null,
      "metadata": {
        "id": "4_sRh9NzF4n3"
      },
      "outputs": [],
      "source": []
    },
    {
      "cell_type": "code",
      "execution_count": null,
      "metadata": {
        "id": "TQujH-lGB2UT"
      },
      "outputs": [],
      "source": []
    },
    {
      "cell_type": "code",
      "execution_count": null,
      "metadata": {
        "id": "0UIawLSBB_wV"
      },
      "outputs": [],
      "source": []
    },
    {
      "cell_type": "code",
      "execution_count": null,
      "metadata": {
        "id": "Gwc-ePGfDRbo"
      },
      "outputs": [],
      "source": []
    },
    {
      "cell_type": "code",
      "execution_count": null,
      "metadata": {
        "id": "iQ5JzQWlDuWD"
      },
      "outputs": [],
      "source": []
    },
    {
      "cell_type": "code",
      "execution_count": null,
      "metadata": {
        "id": "6mEGWDioEAOo"
      },
      "outputs": [],
      "source": []
    },
    {
      "cell_type": "code",
      "execution_count": null,
      "metadata": {
        "id": "70poMaSnENeQ"
      },
      "outputs": [],
      "source": []
    }
  ],
  "metadata": {
    "accelerator": "GPU",
    "colab": {
      "gpuType": "T4",
      "provenance": []
    },
    "kernelspec": {
      "display_name": "Python 3",
      "name": "python3"
    },
    "language_info": {
      "name": "python"
    }
  },
  "nbformat": 4,
  "nbformat_minor": 0
}